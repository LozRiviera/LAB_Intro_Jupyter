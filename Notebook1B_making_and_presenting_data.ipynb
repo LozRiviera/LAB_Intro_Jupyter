{
 "cells": [
  {
   "cell_type": "markdown",
   "metadata": {
    "slideshow": {
     "slide_type": "slide"
    }
   },
   "source": [
    "# Notebook 1B: Some additional features, considerations, and links"
   ]
  },
  {
   "cell_type": "markdown",
   "metadata": {},
   "source": [
    "> **It is probably true to say that whatever you area of interest or research, there will be a Jupyter Notebook out there to get you started.**\n"
   ]
  },
  {
   "cell_type": "markdown",
   "metadata": {},
   "source": []
  },
  {
   "cell_type": "markdown",
   "metadata": {
    "slideshow": {
     "slide_type": "subslide"
    }
   },
   "source": [
    "## This notebook is provided as a chance to introduce a couple of other python packages that you might find useful:"
   ]
  },
  {
   "cell_type": "markdown",
   "metadata": {
    "slideshow": {
     "slide_type": "subslide"
    }
   },
   "source": [
    "    - Using APIs to gather data from the web (Requests - \n",
    "    - Relationships between things (NetworkX)\n",
    "    - Faker for generating random *fake* data with certain characteristics \n",
    "    - Numpy and SciPy\n",
    "    - Pandas for dataframes (csv and spreadsheet replacement)\n",
    "    - Biopython /Bioconda"
   ]
  },
  {
   "cell_type": "code",
   "execution_count": 1,
   "metadata": {
    "slideshow": {
     "slide_type": "slide"
    }
   },
   "outputs": [],
   "source": [
    "import faker as fk\n",
    "import pandas as pd\n",
    "import numpy as np"
   ]
  },
  {
   "cell_type": "code",
   "execution_count": 38,
   "metadata": {
    "slideshow": {
     "slide_type": "subslide"
    }
   },
   "outputs": [
    {
     "data": {
      "text/plain": [
       "['ar_AA',\n",
       " 'ar_EG',\n",
       " 'ar_JO',\n",
       " 'ar_PS',\n",
       " 'ar_SA',\n",
       " 'bg_BG',\n",
       " 'bs_BA',\n",
       " 'cs_CZ',\n",
       " 'da_DK',\n",
       " 'de',\n",
       " 'de_AT',\n",
       " 'de_CH',\n",
       " 'de_DE',\n",
       " 'dk_DK',\n",
       " 'el_CY',\n",
       " 'el_GR',\n",
       " 'en',\n",
       " 'en_AU',\n",
       " 'en_CA',\n",
       " 'en_GB']"
      ]
     },
     "execution_count": 38,
     "metadata": {},
     "output_type": "execute_result"
    }
   ],
   "source": [
    "# regional specifics for creating fake data\n",
    "fk.config.AVAILABLE_LOCALES[0:20]"
   ]
  },
  {
   "cell_type": "markdown",
   "metadata": {
    "slideshow": {
     "slide_type": "slide"
    }
   },
   "source": [
    "## let's create a fake data generator (for right here in _Great?_ Britain)"
   ]
  },
  {
   "cell_type": "code",
   "execution_count": 3,
   "metadata": {
    "slideshow": {
     "slide_type": "subslide"
    }
   },
   "outputs": [],
   "source": [
    "# let's create a fake data generator for here\n",
    "\n",
    "fake_demo =fk.Faker('en_GB')"
   ]
  },
  {
   "cell_type": "code",
   "execution_count": 4,
   "metadata": {
    "slideshow": {
     "slide_type": "subslide"
    }
   },
   "outputs": [
    {
     "data": {
      "text/plain": [
       "'Hayley'"
      ]
     },
     "execution_count": 4,
     "metadata": {},
     "output_type": "execute_result"
    }
   ],
   "source": [
    "# and have a look at some of the options for generating data\n",
    "fake_demo.first_name_female()"
   ]
  },
  {
   "cell_type": "code",
   "execution_count": 5,
   "metadata": {
    "slideshow": {
     "slide_type": "subslide"
    }
   },
   "outputs": [
    {
     "data": {
      "text/plain": [
       "'Connor'"
      ]
     },
     "execution_count": 5,
     "metadata": {},
     "output_type": "execute_result"
    }
   ],
   "source": [
    "fake_demo.first_name_male()"
   ]
  },
  {
   "cell_type": "markdown",
   "metadata": {
    "slideshow": {
     "slide_type": "slide"
    }
   },
   "source": [
    "### We can also creat a range of other data to test our analysis / model"
   ]
  },
  {
   "cell_type": "code",
   "execution_count": 6,
   "metadata": {
    "slideshow": {
     "slide_type": "subslide"
    }
   },
   "outputs": [
    {
     "data": {
      "text/plain": [
       "'Turks and Caicos Islands'"
      ]
     },
     "execution_count": 6,
     "metadata": {},
     "output_type": "execute_result"
    }
   ],
   "source": [
    "# country\n",
    "fake_demo.country()"
   ]
  },
  {
   "cell_type": "code",
   "execution_count": 7,
   "metadata": {
    "slideshow": {
     "slide_type": "subslide"
    }
   },
   "outputs": [
    {
     "data": {
      "text/plain": [
       "(Decimal('-86.506598'), Decimal('14.283361'))"
      ]
     },
     "execution_count": 7,
     "metadata": {},
     "output_type": "execute_result"
    }
   ],
   "source": [
    "# or geographical co-ordinates\n",
    "fake_demo.latlng()"
   ]
  },
  {
   "cell_type": "code",
   "execution_count": 8,
   "metadata": {
    "slideshow": {
     "slide_type": "subslide"
    }
   },
   "outputs": [
    {
     "data": {
      "text/plain": [
       "'2009-10-10T18:20:33'"
      ]
     },
     "execution_count": 8,
     "metadata": {},
     "output_type": "execute_result"
    }
   ],
   "source": [
    "# and maybe a timestamp\n",
    "fake_demo.iso8601()"
   ]
  },
  {
   "cell_type": "markdown",
   "metadata": {
    "slideshow": {
     "slide_type": "slide"
    }
   },
   "source": [
    "## We can use this library and Pandas to create and dataframe of testing data\n",
    "\n",
    "***\n",
    "Our fake DataFrame contains a name, country and coordinates (not related to each other), some random numbers, an e-mail address, timestamp, a paragraph of random text, and a 'bs'  (short for business, but then this is all 'bs')\n",
    "***"
   ]
  },
  {
   "cell_type": "code",
   "execution_count": 9,
   "metadata": {
    "slideshow": {
     "slide_type": "subslide"
    }
   },
   "outputs": [],
   "source": [
    "def create_fake_row(num=1):\n",
    "    \"\"\"Our fake DataFrame contains a name, country and coordinates (not related to each other),\n",
    "    some random numbers, an e-mail address, timestamp, a paragraph of random text,\n",
    "    and a 'bs'  (short for business, but then this is all 'bs')\"\"\"\n",
    "    out = [{\"name\":fake_demo.name(),\n",
    "            \"LatLong\":fake_demo.latlng(),\n",
    "            \"Country\":fake_demo.country(),  # will not match LatLong\n",
    "            \"email\":fake_demo.email(),\n",
    "            \"date_time\":fake_demo.iso8601(),\n",
    "            \"paragraph\":fake_demo.paragraph(),\n",
    "            \"bs\":fake_demo.bs(),\n",
    "            \"randomdata\":np.random.randint(1,1000)} for x in range(num)]\n",
    "    return out"
   ]
  },
  {
   "cell_type": "code",
   "execution_count": 10,
   "metadata": {},
   "outputs": [
    {
     "data": {
      "text/html": [
       "<div>\n",
       "<style scoped>\n",
       "    .dataframe tbody tr th:only-of-type {\n",
       "        vertical-align: middle;\n",
       "    }\n",
       "\n",
       "    .dataframe tbody tr th {\n",
       "        vertical-align: top;\n",
       "    }\n",
       "\n",
       "    .dataframe thead th {\n",
       "        text-align: right;\n",
       "    }\n",
       "</style>\n",
       "<table border=\"1\" class=\"dataframe\">\n",
       "  <thead>\n",
       "    <tr style=\"text-align: right;\">\n",
       "      <th></th>\n",
       "      <th>name</th>\n",
       "      <th>LatLong</th>\n",
       "      <th>Country</th>\n",
       "      <th>email</th>\n",
       "      <th>date_time</th>\n",
       "      <th>paragraph</th>\n",
       "      <th>bs</th>\n",
       "      <th>randomdata</th>\n",
       "    </tr>\n",
       "  </thead>\n",
       "  <tbody>\n",
       "    <tr>\n",
       "      <th>0</th>\n",
       "      <td>Mr. Henry Miller</td>\n",
       "      <td>(85.993452, -80.521660)</td>\n",
       "      <td>Argentina</td>\n",
       "      <td>fsharpe@hotmail.com</td>\n",
       "      <td>2003-09-27T08:06:23</td>\n",
       "      <td>Quibusdam aperiam eum consequatur quasi dolor....</td>\n",
       "      <td>deploy bricks-and-clicks convergence</td>\n",
       "      <td>927</td>\n",
       "    </tr>\n",
       "    <tr>\n",
       "      <th>1</th>\n",
       "      <td>Dr. Maurice Green</td>\n",
       "      <td>(-77.4862515, -46.083889)</td>\n",
       "      <td>Samoa</td>\n",
       "      <td>clare12@evans-hart.com</td>\n",
       "      <td>2018-03-20T10:53:55</td>\n",
       "      <td>Hic deleniti quo nostrum quia vero hic. Eos al...</td>\n",
       "      <td>leverage ubiquitous channels</td>\n",
       "      <td>954</td>\n",
       "    </tr>\n",
       "    <tr>\n",
       "      <th>2</th>\n",
       "      <td>Dr. Yvonne Savage</td>\n",
       "      <td>(74.708217, -145.596143)</td>\n",
       "      <td>Georgia</td>\n",
       "      <td>shanesanders@hancock.com</td>\n",
       "      <td>1972-08-05T15:29:06</td>\n",
       "      <td>Odit corporis totam ut sequi. Delectus volupta...</td>\n",
       "      <td>iterate integrated initiatives</td>\n",
       "      <td>21</td>\n",
       "    </tr>\n",
       "    <tr>\n",
       "      <th>3</th>\n",
       "      <td>Lucy Walker-Arnold</td>\n",
       "      <td>(-69.2135675, -3.519260)</td>\n",
       "      <td>Qatar</td>\n",
       "      <td>jstevens@palmer.com</td>\n",
       "      <td>1984-03-19T13:30:28</td>\n",
       "      <td>Rem omnis eius sunt voluptatem. Dicta reiciend...</td>\n",
       "      <td>seize 24/365 networks</td>\n",
       "      <td>858</td>\n",
       "    </tr>\n",
       "    <tr>\n",
       "      <th>4</th>\n",
       "      <td>Tom Smith</td>\n",
       "      <td>(44.999621, -61.941992)</td>\n",
       "      <td>Ethiopia</td>\n",
       "      <td>frank41@cook.com</td>\n",
       "      <td>2003-09-13T11:26:56</td>\n",
       "      <td>Quos voluptatibus ipsa sequi totam debitis. Vo...</td>\n",
       "      <td>redefine bricks-and-clicks eyeballs</td>\n",
       "      <td>583</td>\n",
       "    </tr>\n",
       "  </tbody>\n",
       "</table>\n",
       "</div>"
      ],
      "text/plain": [
       "                 name                    LatLong    Country  \\\n",
       "0    Mr. Henry Miller    (85.993452, -80.521660)  Argentina   \n",
       "1   Dr. Maurice Green  (-77.4862515, -46.083889)      Samoa   \n",
       "2   Dr. Yvonne Savage   (74.708217, -145.596143)    Georgia   \n",
       "3  Lucy Walker-Arnold   (-69.2135675, -3.519260)      Qatar   \n",
       "4           Tom Smith    (44.999621, -61.941992)   Ethiopia   \n",
       "\n",
       "                      email            date_time  \\\n",
       "0       fsharpe@hotmail.com  2003-09-27T08:06:23   \n",
       "1    clare12@evans-hart.com  2018-03-20T10:53:55   \n",
       "2  shanesanders@hancock.com  1972-08-05T15:29:06   \n",
       "3       jstevens@palmer.com  1984-03-19T13:30:28   \n",
       "4          frank41@cook.com  2003-09-13T11:26:56   \n",
       "\n",
       "                                           paragraph  \\\n",
       "0  Quibusdam aperiam eum consequatur quasi dolor....   \n",
       "1  Hic deleniti quo nostrum quia vero hic. Eos al...   \n",
       "2  Odit corporis totam ut sequi. Delectus volupta...   \n",
       "3  Rem omnis eius sunt voluptatem. Dicta reiciend...   \n",
       "4  Quos voluptatibus ipsa sequi totam debitis. Vo...   \n",
       "\n",
       "                                     bs  randomdata  \n",
       "0  deploy bricks-and-clicks convergence         927  \n",
       "1          leverage ubiquitous channels         954  \n",
       "2        iterate integrated initiatives          21  \n",
       "3                 seize 24/365 networks         858  \n",
       "4   redefine bricks-and-clicks eyeballs         583  "
      ]
     },
     "execution_count": 10,
     "metadata": {},
     "output_type": "execute_result"
    }
   ],
   "source": [
    "df_fake = pd.DataFrame(create_fake_row(1000))\n",
    "\n",
    "df_fake.head()"
   ]
  },
  {
   "cell_type": "code",
   "execution_count": 11,
   "metadata": {},
   "outputs": [],
   "source": [
    "#Split LatLong column up\n",
    "df_fake =df_fake.join(pd.DataFrame(df_fake.LatLong.values.tolist(), columns=['Lat', 'Long']))"
   ]
  },
  {
   "cell_type": "markdown",
   "metadata": {},
   "source": [
    "we can split columns into new columns to help useage later if needed"
   ]
  },
  {
   "cell_type": "code",
   "execution_count": 12,
   "metadata": {},
   "outputs": [
    {
     "data": {
      "text/plain": [
       "Nepal               10\n",
       "Comoros             10\n",
       "Samoa                9\n",
       "Congo                9\n",
       "Malawi               9\n",
       "                    ..\n",
       "Belarus              1\n",
       "Marshall Islands     1\n",
       "Egypt                1\n",
       "Colombia             1\n",
       "Guatemala            1\n",
       "Name: Country, Length: 233, dtype: int64"
      ]
     },
     "execution_count": 12,
     "metadata": {},
     "output_type": "execute_result"
    }
   ],
   "source": [
    "fake_density =df_fake.Country.value_counts()\n",
    "\n",
    "fake_density"
   ]
  },
  {
   "cell_type": "markdown",
   "metadata": {},
   "source": [
    "\n",
    "## Next we are going to import some of the choices we have for exploring geographical data"
   ]
  },
  {
   "cell_type": "code",
   "execution_count": 13,
   "metadata": {},
   "outputs": [],
   "source": [
    "import geopandas as gpd\n",
    "import matplotlib\n",
    "%matplotlib inline"
   ]
  },
  {
   "cell_type": "code",
   "execution_count": 14,
   "metadata": {},
   "outputs": [
    {
     "data": {
      "text/plain": [
       "['naturalearth_cities', 'naturalearth_lowres', 'nybb']"
      ]
     },
     "execution_count": 14,
     "metadata": {},
     "output_type": "execute_result"
    }
   ],
   "source": [
    "gpd.datasets.available"
   ]
  },
  {
   "cell_type": "code",
   "execution_count": 15,
   "metadata": {},
   "outputs": [],
   "source": [
    "world = gpd.read_file(gpd.datasets.get_path('naturalearth_lowres'))"
   ]
  },
  {
   "cell_type": "code",
   "execution_count": 16,
   "metadata": {},
   "outputs": [
    {
     "data": {
      "text/html": [
       "<div>\n",
       "<style scoped>\n",
       "    .dataframe tbody tr th:only-of-type {\n",
       "        vertical-align: middle;\n",
       "    }\n",
       "\n",
       "    .dataframe tbody tr th {\n",
       "        vertical-align: top;\n",
       "    }\n",
       "\n",
       "    .dataframe thead th {\n",
       "        text-align: right;\n",
       "    }\n",
       "</style>\n",
       "<table border=\"1\" class=\"dataframe\">\n",
       "  <thead>\n",
       "    <tr style=\"text-align: right;\">\n",
       "      <th></th>\n",
       "      <th>pop_est</th>\n",
       "      <th>continent</th>\n",
       "      <th>name</th>\n",
       "      <th>iso_a3</th>\n",
       "      <th>gdp_md_est</th>\n",
       "      <th>geometry</th>\n",
       "    </tr>\n",
       "  </thead>\n",
       "  <tbody>\n",
       "    <tr>\n",
       "      <th>0</th>\n",
       "      <td>920938</td>\n",
       "      <td>Oceania</td>\n",
       "      <td>Fiji</td>\n",
       "      <td>FJI</td>\n",
       "      <td>8374.0</td>\n",
       "      <td>MULTIPOLYGON (((180.00000 -16.06713, 180.00000...</td>\n",
       "    </tr>\n",
       "    <tr>\n",
       "      <th>1</th>\n",
       "      <td>53950935</td>\n",
       "      <td>Africa</td>\n",
       "      <td>Tanzania</td>\n",
       "      <td>TZA</td>\n",
       "      <td>150600.0</td>\n",
       "      <td>POLYGON ((33.90371 -0.95000, 34.07262 -1.05982...</td>\n",
       "    </tr>\n",
       "    <tr>\n",
       "      <th>2</th>\n",
       "      <td>603253</td>\n",
       "      <td>Africa</td>\n",
       "      <td>W. Sahara</td>\n",
       "      <td>ESH</td>\n",
       "      <td>906.5</td>\n",
       "      <td>POLYGON ((-8.66559 27.65643, -8.66512 27.58948...</td>\n",
       "    </tr>\n",
       "    <tr>\n",
       "      <th>3</th>\n",
       "      <td>35623680</td>\n",
       "      <td>North America</td>\n",
       "      <td>Canada</td>\n",
       "      <td>CAN</td>\n",
       "      <td>1674000.0</td>\n",
       "      <td>MULTIPOLYGON (((-122.84000 49.00000, -122.9742...</td>\n",
       "    </tr>\n",
       "    <tr>\n",
       "      <th>4</th>\n",
       "      <td>326625791</td>\n",
       "      <td>North America</td>\n",
       "      <td>United States of America</td>\n",
       "      <td>USA</td>\n",
       "      <td>18560000.0</td>\n",
       "      <td>MULTIPOLYGON (((-122.84000 49.00000, -120.0000...</td>\n",
       "    </tr>\n",
       "  </tbody>\n",
       "</table>\n",
       "</div>"
      ],
      "text/plain": [
       "     pop_est      continent                      name iso_a3  gdp_md_est  \\\n",
       "0     920938        Oceania                      Fiji    FJI      8374.0   \n",
       "1   53950935         Africa                  Tanzania    TZA    150600.0   \n",
       "2     603253         Africa                 W. Sahara    ESH       906.5   \n",
       "3   35623680  North America                    Canada    CAN   1674000.0   \n",
       "4  326625791  North America  United States of America    USA  18560000.0   \n",
       "\n",
       "                                            geometry  \n",
       "0  MULTIPOLYGON (((180.00000 -16.06713, 180.00000...  \n",
       "1  POLYGON ((33.90371 -0.95000, 34.07262 -1.05982...  \n",
       "2  POLYGON ((-8.66559 27.65643, -8.66512 27.58948...  \n",
       "3  MULTIPOLYGON (((-122.84000 49.00000, -122.9742...  \n",
       "4  MULTIPOLYGON (((-122.84000 49.00000, -120.0000...  "
      ]
     },
     "execution_count": 16,
     "metadata": {},
     "output_type": "execute_result"
    }
   ],
   "source": [
    "world.head()"
   ]
  },
  {
   "cell_type": "code",
   "execution_count": null,
   "metadata": {},
   "outputs": [],
   "source": [
    "\n"
   ]
  },
  {
   "cell_type": "code",
   "execution_count": 17,
   "metadata": {},
   "outputs": [
    {
     "data": {
      "text/html": [
       "<div>\n",
       "<style scoped>\n",
       "    .dataframe tbody tr th:only-of-type {\n",
       "        vertical-align: middle;\n",
       "    }\n",
       "\n",
       "    .dataframe tbody tr th {\n",
       "        vertical-align: top;\n",
       "    }\n",
       "\n",
       "    .dataframe thead th {\n",
       "        text-align: right;\n",
       "    }\n",
       "</style>\n",
       "<table border=\"1\" class=\"dataframe\">\n",
       "  <thead>\n",
       "    <tr style=\"text-align: right;\">\n",
       "      <th></th>\n",
       "      <th>pop_est</th>\n",
       "      <th>continent</th>\n",
       "      <th>name</th>\n",
       "      <th>iso_a3</th>\n",
       "      <th>gdp_md_est</th>\n",
       "      <th>geometry</th>\n",
       "      <th>Country</th>\n",
       "    </tr>\n",
       "  </thead>\n",
       "  <tbody>\n",
       "    <tr>\n",
       "      <th>1</th>\n",
       "      <td>53950935</td>\n",
       "      <td>Africa</td>\n",
       "      <td>Tanzania</td>\n",
       "      <td>TZA</td>\n",
       "      <td>150600.0</td>\n",
       "      <td>POLYGON ((33.90371 -0.95000, 34.07262 -1.05982...</td>\n",
       "      <td>5</td>\n",
       "    </tr>\n",
       "    <tr>\n",
       "      <th>3</th>\n",
       "      <td>35623680</td>\n",
       "      <td>North America</td>\n",
       "      <td>Canada</td>\n",
       "      <td>CAN</td>\n",
       "      <td>1674000.0</td>\n",
       "      <td>MULTIPOLYGON (((-122.84000 49.00000, -122.9742...</td>\n",
       "      <td>5</td>\n",
       "    </tr>\n",
       "    <tr>\n",
       "      <th>4</th>\n",
       "      <td>326625791</td>\n",
       "      <td>North America</td>\n",
       "      <td>United States of America</td>\n",
       "      <td>USA</td>\n",
       "      <td>18560000.0</td>\n",
       "      <td>MULTIPOLYGON (((-122.84000 49.00000, -120.0000...</td>\n",
       "      <td>2</td>\n",
       "    </tr>\n",
       "    <tr>\n",
       "      <th>5</th>\n",
       "      <td>18556698</td>\n",
       "      <td>Asia</td>\n",
       "      <td>Kazakhstan</td>\n",
       "      <td>KAZ</td>\n",
       "      <td>460700.0</td>\n",
       "      <td>POLYGON ((87.35997 49.21498, 86.59878 48.54918...</td>\n",
       "      <td>5</td>\n",
       "    </tr>\n",
       "    <tr>\n",
       "      <th>6</th>\n",
       "      <td>29748859</td>\n",
       "      <td>Asia</td>\n",
       "      <td>Uzbekistan</td>\n",
       "      <td>UZB</td>\n",
       "      <td>202300.0</td>\n",
       "      <td>POLYGON ((55.96819 41.30864, 55.92892 44.99586...</td>\n",
       "      <td>5</td>\n",
       "    </tr>\n",
       "  </tbody>\n",
       "</table>\n",
       "</div>"
      ],
      "text/plain": [
       "     pop_est      continent                      name iso_a3  gdp_md_est  \\\n",
       "1   53950935         Africa                  Tanzania    TZA    150600.0   \n",
       "3   35623680  North America                    Canada    CAN   1674000.0   \n",
       "4  326625791  North America  United States of America    USA  18560000.0   \n",
       "5   18556698           Asia                Kazakhstan    KAZ    460700.0   \n",
       "6   29748859           Asia                Uzbekistan    UZB    202300.0   \n",
       "\n",
       "                                            geometry  Country  \n",
       "1  POLYGON ((33.90371 -0.95000, 34.07262 -1.05982...        5  \n",
       "3  MULTIPOLYGON (((-122.84000 49.00000, -122.9742...        5  \n",
       "4  MULTIPOLYGON (((-122.84000 49.00000, -120.0000...        2  \n",
       "5  POLYGON ((87.35997 49.21498, 86.59878 48.54918...        5  \n",
       "6  POLYGON ((55.96819 41.30864, 55.92892 44.99586...        5  "
      ]
     },
     "execution_count": 17,
     "metadata": {},
     "output_type": "execute_result"
    }
   ],
   "source": [
    "fake_demo_mapped = world.join(fake_density, on='name',how='inner')\n",
    "\n",
    "fake_demo_mapped.head()"
   ]
  },
  {
   "cell_type": "code",
   "execution_count": 18,
   "metadata": {},
   "outputs": [
    {
     "data": {
      "text/plain": [
       "<AxesSubplot:>"
      ]
     },
     "execution_count": 18,
     "metadata": {},
     "output_type": "execute_result"
    },
    {
     "data": {
      "image/png": "[encoded data removed]",
      "text/plain": [
       "<Figure size 1152x1152 with 1 Axes>"
      ]
     },
     "metadata": {
      "needs_background": "light"
     },
     "output_type": "display_data"
    }
   ],
   "source": [
    "#  A matplotlib option \n",
    "base = world.plot(alpha=0.1, color='gray', edgecolor='black', figsize=(16,16))\n",
    "fake_demo_mapped.plot(column = 'Country',cmap='Greens', legend=False, ax=base)"
   ]
  },
  {
   "cell_type": "code",
   "execution_count": null,
   "metadata": {},
   "outputs": [],
   "source": []
  },
  {
   "cell_type": "code",
   "execution_count": null,
   "metadata": {},
   "outputs": [],
   "source": []
  },
  {
   "cell_type": "code",
   "execution_count": null,
   "metadata": {},
   "outputs": [],
   "source": []
  },
  {
   "cell_type": "code",
   "execution_count": null,
   "metadata": {},
   "outputs": [],
   "source": []
  },
  {
   "cell_type": "code",
   "execution_count": null,
   "metadata": {},
   "outputs": [],
   "source": []
  }
 ],
 "metadata": {
  "kernelspec": {
   "display_name": "Python 3",
   "language": "python",
   "name": "python3"
  },
  "language_info": {
   "codemirror_mode": {
    "name": "ipython",
    "version": 3
   },
   "file_extension": ".py",
   "mimetype": "text/x-python",
   "name": "python",
   "nbconvert_exporter": "python",
   "pygments_lexer": "ipython3",
   "version": "3.9.4"
  }
 },
 "nbformat": 4,
 "nbformat_minor": 2
}
