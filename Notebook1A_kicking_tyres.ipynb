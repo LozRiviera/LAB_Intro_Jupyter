{
 "cells": [
  {
   "cell_type": "markdown",
   "metadata": {},
   "source": [
    "<H1>Notebook 1A:  Exploring through the most useful and important features within a Jupyter notebook</font>"
   ]
  },
  {
   "cell_type": "markdown",
   "metadata": {},
   "source": [
    "***\n",
    "_This will be an incomplete and biased run-through of the important features and functions in a jupyter notebook_\n",
    "\n",
    "Incomplete, because no one notebook (or set) could cover all of the available features and abilities of the Jupyter project\n",
    "*** \n",
    "#    1. Cell Types\n",
    "#    2. Editing modes\n",
    "#    3. Imports and output\n",
    "#    4. Help \n"
   ]
  },
  {
   "cell_type": "markdown",
   "metadata": {},
   "source": [
    "### Great sources of Jupyter notebooks to explore and tick off the list:\n",
    "- [Jupyter.org a range of tools for reproducible computing](https://jupyter.org/try)   \n",
    "\n",
    "- [The Carpentries, great basic training for software and data handling](https://software-carpentry.org/lessons/index.html)   \n",
    "\n",
    "- [And the main Jupyter notebook documentation site](https://jupyter-notebook.readthedocs.io/en/stable/)  \n",
    "\n",
    "- [IPython, information for interactive computing, the precedant of Jupyter](https://nbviewer.jupyter.org/github/ipython/ipython/blob/master/examples/IPython%20Kernel/Index.ipynb) \n",
    " \n"
   ]
  },
  {
   "cell_type": "markdown",
   "metadata": {},
   "source": [
    "><font color='navy' size=4>We love stories.  The ability to provide information and **context** to accompany _data_ and `code` means that, in addtion to providing comments for the function and behavior of the `code` you can return the results of each stage of your computation, as well as allowing a more gerenal discussion of motivations and possible findings</font>"
   ]
  },
  {
   "cell_type": "markdown",
   "metadata": {},
   "source": [
    "# 1. Cell types:\n",
    "\n",
    "1. Markdown  \n",
    "2. Code\n",
    "3. Heading\n",
    "4. Raw NBConvert\n",
    "\n"
   ]
  },
  {
   "cell_type": "markdown",
   "metadata": {},
   "source": [
    "## 1_1: Markdown and Formatting"
   ]
  },
  {
   "cell_type": "markdown",
   "metadata": {},
   "source": [
    "# Heading 1\n",
    "## Heading 2 \n",
    "### Heading 3 \n",
    "\n",
    "body text \n",
    "_italic_ or *italic*\n",
    "__Bold__ or **Bold**"
   ]
  },
  {
   "cell_type": "markdown",
   "metadata": {},
   "source": [
    "<h1> Markdown cells also render HTML </h1>\n",
    "<br>\n",
    "<p><font size=5>When unsure you can always import &#128060; &#128060;</font></p>\n",
    "<br>\n",
    "\n",
    "\n",
    "<font size=4 color='green'>Not that I am encouraging even a light dusting of emoji, but a great number of options are available to communicate:\n",
    "https://www.w3schools.com/charsets/ref_emoji.asp </font>\n"
   ]
  },
  {
   "cell_type": "markdown",
   "metadata": {},
   "source": [
    "Further resources:\n",
    "- https://daringfireball.net/projects/markdown/\n",
    "- https://www.w3schools.com/\n"
   ]
  },
  {
   "cell_type": "markdown",
   "metadata": {},
   "source": [
    "<br>\n",
    "<br>\n",
    "<font size=8 color=\"navy\" style=\"background-color:powderblue;\"> Why this matters? </font>\n",
    "<br>\n",
    "<br>"
   ]
  },
  {
   "cell_type": "markdown",
   "metadata": {},
   "source": [
    "***\n",
    "> ### The first thing we may need to look at is the types of information that we want to provide to the reader \n",
    "> ### (99% of the time, that will be you).  \n",
    "***\n",
    "Over time these might be:\n",
    "    \n",
    "    - Overall aims and research goals\n",
    "    - Specific tasks to be achived here\n",
    "    - Descriptions of data \n",
    "    - Libraires and code "
   ]
  },
  {
   "cell_type": "markdown",
   "metadata": {},
   "source": [
    "## 1_2: Code cells"
   ]
  },
  {
   "cell_type": "code",
   "execution_count": null,
   "metadata": {
    "scrolled": true
   },
   "outputs": [],
   "source": [
    "#code and comments\n",
    "a = 1\n",
    "b = 2\n",
    "a + b"
   ]
  },
  {
   "cell_type": "markdown",
   "metadata": {},
   "source": [
    "### We can use markdown to format code in a number of ways, using \\`\\`\\` followed by a language (_e.g._ \\`\\`\\`python) then code on lines below finished with \\`\\`\\` on a separate line\n",
    "\n",
    "```python\n",
    "def TimesTable(val=1, n=10):\n",
    "    for i in range(1,n):\n",
    "        print (i*val)\n",
    "```"
   ]
  },
  {
   "cell_type": "markdown",
   "metadata": {},
   "source": [
    "### a formatted html example\n",
    "\n",
    "```html\n",
    "<h1> Hello world!</h1>\n",
    "```"
   ]
  },
  {
   "cell_type": "markdown",
   "metadata": {},
   "source": [
    "### Equations:  LaTeX and Mathjax options to illustrate \n",
    "\n",
    "Full LaTex is an option for those familiar with it"
   ]
  },
  {
   "cell_type": "code",
   "execution_count": null,
   "metadata": {},
   "outputs": [],
   "source": [
    "%%latex\n",
    "\\begin{align}\n",
    "F(k) = {\\sum}_0^{\\infty}(x) e^{2\\pi}y\n",
    "\\end{align}"
   ]
  },
  {
   "cell_type": "markdown",
   "metadata": {},
   "source": [
    "### MathJax provides \n",
    "https://www.mathjax.org/"
   ]
  },
  {
   "cell_type": "code",
   "execution_count": null,
   "metadata": {},
   "outputs": [],
   "source": [
    "# https://www.mathjax.org/\n",
    "\n",
    "from IPython.display import Math\n",
    "Math(r'F(k) = \\ {\\sum}_0^{\\infty}(x) e^{2\\pi}y')"
   ]
  },
  {
   "cell_type": "markdown",
   "metadata": {},
   "source": [
    "#### But markdown can also shorten this process\n",
    "by using '$' before and after your text\n",
    "\n",
    "$F(k) = \\ {\\sum}_0^{\\infty}(x) e^{2\\pi}y$"
   ]
  },
  {
   "cell_type": "markdown",
   "metadata": {},
   "source": [
    "# 2. Editing Modes"
   ]
  },
  {
   "cell_type": "markdown",
   "metadata": {},
   "source": [
    "# 3. Imports and output"
   ]
  },
  {
   "cell_type": "markdown",
   "metadata": {},
   "source": [
    "### Well done for getting this far.  You deserve a high-five.  \n",
    "### Just a little work to earn it...\n",
    "---\n",
    "We will import a couple of packages and use these to show live code in the notebook. \n",
    "Remember, we are executing each cell in turn (either to render the HTML or Markdown, or to run the code), by hitting the 'Run' button, or by hitting **Ctrl+Enter** / **Shift+Enter** /**Cmnd+Enter**\n",
    "\n",
    "Notice the `In [*]` near the left of each cell as the cell is executed. This changes to a number when finished. \n",
    "\n",
    "---\n",
    "\n"
   ]
  },
  {
   "cell_type": "code",
   "execution_count": null,
   "metadata": {},
   "outputs": [],
   "source": [
    "import IPython.display as ipd\n",
    "import random"
   ]
  },
  {
   "cell_type": "code",
   "execution_count": null,
   "metadata": {},
   "outputs": [],
   "source": [
    "image = ipd.Image('https://upload.wikimedia.org/wikipedia/commons/f/fb/High_five%21%21.jpg', width=200)\n",
    "ipd.display(image) , image.metadata"
   ]
  },
  {
   "cell_type": "code",
   "execution_count": null,
   "metadata": {},
   "outputs": [],
   "source": [
    "h_fives= []\n",
    "h_fives.append(r'<a title=\"Ingorr [CC BY 2.0 (https://creativecommons.org/licenses/by/2.0)],via Wikimedia Commons\" href=\"https://commons.wikimedia.org/wiki/File:High_five!!.jpg\"><img width=\"512\" alt=\"High five!!\" src=\"https://upload.wikimedia.org/wikipedia/commons/thumb/f/fb/High_five%21%21.jpg/512px-High_five%21%21.jpg\"></a>')\n",
    "h_fives.append(r'<a title=\"Kiidos [CC BY-SA 3.0 (http://creativecommons.org/licenses/by-sa/3.0/)], via Wikimedia Commons\" href=\"https://commons.wikimedia.org/wiki/File:Annaviis.jpg\"><img width=\"512\" alt=\"Annaviis\" src=\"https://upload.wikimedia.org/wikipedia/commons/4/4b/Annaviis.jpg\"></a>')\n",
    "h_fives.append(r'<a title=\"Jonas Vincent jonasvincentbe [CC0], via Wikimedia Commons\" href=\"https://commons.wikimedia.org/wiki/File:Sally_high_five_(Unsplash).jpg\"><img width=\"256\" alt=\"Sally high five (Unsplash)\" src=\"https://upload.wikimedia.org/wikipedia/commons/thumb/2/29/Sally_high_five_%28Unsplash%29.jpg/256px-Sally_high_five_%28Unsplash%29.jpg\"></a>')\n",
    "h_fives.append(r'<a><img src=https://i.imgur.com/Ii0ALYG.jpg></a>')"
   ]
  },
  {
   "cell_type": "code",
   "execution_count": null,
   "metadata": {
    "scrolled": false
   },
   "outputs": [],
   "source": [
    "#a high-five for you (observe repeated re-run for another)\n",
    "\n",
    "webout = ipd.HTML(h_fives[random.randint(0,3)])\n",
    "webout"
   ]
  },
  {
   "cell_type": "markdown",
   "metadata": {},
   "source": [
    "###### You also have many options provided by IPython and Jupyter for other media to enrich you presentations and explainations.\n",
    "\n",
    "More detailed notes and notebooks are provided here:\n",
    "\n",
    "https://nbviewer.jupyter.org/github/ipython/ipython/blob/master/examples/IPython%20Kernel/Index.ipynb\n",
    "\n",
    "https://jupyter.org/try\n"
   ]
  },
  {
   "cell_type": "code",
   "execution_count": null,
   "metadata": {
    "scrolled": false
   },
   "outputs": [],
   "source": [
    "vid =ipd.YouTubeVideo('3VDw7XIulIk', autoplay='0', width=720, height=400)\n",
    "\n",
    "ipd.display(vid)"
   ]
  },
  {
   "cell_type": "code",
   "execution_count": null,
   "metadata": {},
   "outputs": [],
   "source": [
    "#a list of the available cell and line 'magics'\n",
    "\n",
    "%lsmagic"
   ]
  },
  {
   "cell_type": "code",
   "execution_count": null,
   "metadata": {},
   "outputs": [],
   "source": [
    "%%html\n",
    "<h1> HTML magics <em style=\"background-color:lightgrey;\"> <font color=\"red\"> can </font> </em> \n",
    "be used for whole cells </h1>\n",
    "<br>"
   ]
  },
  {
   "cell_type": "markdown",
   "metadata": {},
   "source": [
    "<br/>"
   ]
  },
  {
   "cell_type": "code",
   "execution_count": null,
   "metadata": {},
   "outputs": [],
   "source": [
    "def TimesTable(val=1, n=10):\n",
    "    for i in range(1,n):\n",
    "        print (i*val)"
   ]
  },
  {
   "cell_type": "code",
   "execution_count": null,
   "metadata": {
    "scrolled": true
   },
   "outputs": [],
   "source": [
    "#%timeit\n",
    "%time TimesTable(3,10)"
   ]
  },
  {
   "cell_type": "markdown",
   "metadata": {},
   "source": [
    "# 4. Help"
   ]
  },
  {
   "cell_type": "code",
   "execution_count": null,
   "metadata": {},
   "outputs": [],
   "source": [
    "?random.randint\n",
    "#core python"
   ]
  },
  {
   "cell_type": "code",
   "execution_count": null,
   "metadata": {},
   "outputs": [],
   "source": [
    "import pandas as pd"
   ]
  },
  {
   "cell_type": "code",
   "execution_count": null,
   "metadata": {},
   "outputs": [],
   "source": [
    "pd.read_csv?\n"
   ]
  },
  {
   "cell_type": "code",
   "execution_count": null,
   "metadata": {},
   "outputs": [],
   "source": []
  },
  {
   "cell_type": "markdown",
   "metadata": {},
   "source": [
    "## Conclusion:  Jupyter notebooks are an environment in which you can learn (and recall), explain and explore. Code, data, and context"
   ]
  },
  {
   "cell_type": "markdown",
   "metadata": {},
   "source": [
    "# Please try:\n",
    " - creating and renaming a new notebook for yourself\n",
    " - making a copy of an exisitng notebook\n",
    " - Search for an example of an interactive notebook from your area of research\n",
    " - \n",
    "    "
   ]
  },
  {
   "cell_type": "code",
   "execution_count": null,
   "metadata": {},
   "outputs": [],
   "source": []
  },
  {
   "cell_type": "code",
   "execution_count": null,
   "metadata": {},
   "outputs": [],
   "source": []
  },
  {
   "cell_type": "code",
   "execution_count": null,
   "metadata": {},
   "outputs": [],
   "source": []
  }
 ],
 "metadata": {
  "kernelspec": {
   "display_name": "Python 3",
   "language": "python",
   "name": "python3"
  },
  "language_info": {
   "codemirror_mode": {
    "name": "ipython",
    "version": 3
   },
   "file_extension": ".py",
   "mimetype": "text/x-python",
   "name": "python",
   "nbconvert_exporter": "python",
   "pygments_lexer": "ipython3",
   "version": "3.9.4"
  }
 },
 "nbformat": 4,
 "nbformat_minor": 2
}
